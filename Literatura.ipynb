{
 "cells": [
  {
   "cell_type": "markdown",
   "id": "d4a34a5b-3d48-4d50-b5d3-c2b823b2de47",
   "metadata": {},
   "source": [
    "# Literatura numizmatyczna"
   ]
  },
  {
   "cell_type": "code",
   "execution_count": 1,
   "id": "4be151d5-5b42-4e78-b5b6-517090cfa82d",
   "metadata": {},
   "outputs": [
    {
     "data": {
      "text/html": [
       "<style>.container { width:100% !important; }</style>"
      ],
      "text/plain": [
       "<IPython.core.display.HTML object>"
      ]
     },
     "metadata": {},
     "output_type": "display_data"
    }
   ],
   "source": [
    "from IPython.display import display, HTML\n",
    "display(HTML(\"<style>.container { width:100% !important; }</style>\"))"
   ]
  },
  {
   "cell_type": "markdown",
   "id": "e28bb6e8-d984-4f1f-9df2-6ee3c192921f",
   "metadata": {},
   "source": [
    "| <div style=\"width:80px\">Skrót</div> | Tytuł | Autor | Rok wydania | Uwagi |\n",
    "| :- | :- | :- | :- | :- |\n",
    "| Kop9-4 | Katalog podstawowych typów monet i banknotów Polski oraz ziem historycznie z Polską związanych - Tom IX cz. 4 - Legendy, znaki mennicze, gatunki monet i inne elementy klasyfikacji | Edmund Kopicki | 1989 |  |\n",
    "| LMK | Lenne Monety Krzyżackie | Andrzej Schmidt | 1979 |  |"
   ]
  },
  {
   "cell_type": "code",
   "execution_count": null,
   "id": "c18cd364-3e32-4109-8946-58921ea2de43",
   "metadata": {},
   "outputs": [],
   "source": []
  }
 ],
 "metadata": {
  "kernelspec": {
   "display_name": "Python 3 (ipykernel)",
   "language": "python",
   "name": "python3"
  },
  "language_info": {
   "codemirror_mode": {
    "name": "ipython",
    "version": 3
   },
   "file_extension": ".py",
   "mimetype": "text/x-python",
   "name": "python",
   "nbconvert_exporter": "python",
   "pygments_lexer": "ipython3",
   "version": "3.10.9"
  }
 },
 "nbformat": 4,
 "nbformat_minor": 5
}
